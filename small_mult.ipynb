{
 "cells": [
  {
   "cell_type": "markdown",
   "metadata": {},
   "source": [
    "# Small Multiples\n",
    "----\n",
    "\n",
    "Created by Cristian E. Nuno\n",
    "\n",
    "Date: August 14, 2019\n",
    "\n",
    "![example](small_multiples_example.png)\n",
    "\n",
    "## Overview\n",
    "\n",
    "Small multiples is a visualization technique that partions your data such that you're visualizing one piece of it at a time. These pieces are stored as series of individual plots (i.e. subplots) that share the same x and y-axes. \n",
    "\n",
    "Having each subplot on the same scale makes it easier for the reader to compare one subplot to the next without having to mentally account for different scales.\n",
    "\n",
    "## Goal\n",
    "\n",
    "For you to be able to create small multiples in python using [`matplotlib`](https://matplotlib.org/3.1.1/gallery/subplots_axes_and_figures/subplots_demo.html).\n",
    "\n",
    "### Inspiration\n",
    "\n",
    "This tutorial was inspired by Yan Holtz's [_Small Multiples for Line Charts_](https://python-graph-gallery.com/125-small-multiples-for-line-chart/) tutorial. \n"
   ]
  },
  {
   "cell_type": "code",
   "execution_count": 99,
   "metadata": {},
   "outputs": [],
   "source": [
    "# import necessary libraries\n",
    "import matplotlib.pyplot as plt\n",
    "import numpy as np\n",
    "import pandas as pd"
   ]
  },
  {
   "cell_type": "markdown",
   "metadata": {},
   "source": [
    "Here, each record in `df` represents the average number of commits each team member has, per hour,  over the course of one hackathon."
   ]
  },
  {
   "cell_type": "code",
   "execution_count": 100,
   "metadata": {},
   "outputs": [
    {
     "data": {
      "text/html": [
       "<div>\n",
       "<style scoped>\n",
       "    .dataframe tbody tr th:only-of-type {\n",
       "        vertical-align: middle;\n",
       "    }\n",
       "\n",
       "    .dataframe tbody tr th {\n",
       "        vertical-align: top;\n",
       "    }\n",
       "\n",
       "    .dataframe thead th {\n",
       "        text-align: right;\n",
       "    }\n",
       "</style>\n",
       "<table border=\"1\" class=\"dataframe\">\n",
       "  <thead>\n",
       "    <tr style=\"text-align: right;\">\n",
       "      <th></th>\n",
       "      <th>hour</th>\n",
       "      <th>variable</th>\n",
       "      <th>value</th>\n",
       "      <th>num_repos</th>\n",
       "    </tr>\n",
       "  </thead>\n",
       "  <tbody>\n",
       "    <tr>\n",
       "      <th>0</th>\n",
       "      <td>1</td>\n",
       "      <td>sam</td>\n",
       "      <td>4.724404</td>\n",
       "      <td>42</td>\n",
       "    </tr>\n",
       "    <tr>\n",
       "      <th>1</th>\n",
       "      <td>2</td>\n",
       "      <td>sam</td>\n",
       "      <td>6.851426</td>\n",
       "      <td>42</td>\n",
       "    </tr>\n",
       "    <tr>\n",
       "      <th>2</th>\n",
       "      <td>3</td>\n",
       "      <td>sam</td>\n",
       "      <td>5.314597</td>\n",
       "      <td>42</td>\n",
       "    </tr>\n",
       "    <tr>\n",
       "      <th>3</th>\n",
       "      <td>4</td>\n",
       "      <td>sam</td>\n",
       "      <td>3.151479</td>\n",
       "      <td>42</td>\n",
       "    </tr>\n",
       "    <tr>\n",
       "      <th>4</th>\n",
       "      <td>5</td>\n",
       "      <td>sam</td>\n",
       "      <td>4.712608</td>\n",
       "      <td>42</td>\n",
       "    </tr>\n",
       "  </tbody>\n",
       "</table>\n",
       "</div>"
      ],
      "text/plain": [
       "   hour variable     value  num_repos\n",
       "0     1      sam  4.724404         42\n",
       "1     2      sam  6.851426         42\n",
       "2     3      sam  5.314597         42\n",
       "3     4      sam  3.151479         42\n",
       "4     5      sam  4.712608         42"
      ]
     },
     "execution_count": 100,
     "metadata": {},
     "output_type": "execute_result"
    }
   ],
   "source": [
    "# import necessary data\n",
    "df = pd.read_csv(\"commits_per_hour_long.csv\")\n",
    "df['num_repos'] = 42\n",
    "df.head()"
   ]
  },
  {
   "cell_type": "code",
   "execution_count": 101,
   "metadata": {},
   "outputs": [
    {
     "data": {
      "text/html": [
       "<div>\n",
       "<style scoped>\n",
       "    .dataframe tbody tr th:only-of-type {\n",
       "        vertical-align: middle;\n",
       "    }\n",
       "\n",
       "    .dataframe tbody tr th {\n",
       "        vertical-align: top;\n",
       "    }\n",
       "\n",
       "    .dataframe thead th {\n",
       "        text-align: right;\n",
       "    }\n",
       "</style>\n",
       "<table border=\"1\" class=\"dataframe\">\n",
       "  <thead>\n",
       "    <tr style=\"text-align: right;\">\n",
       "      <th></th>\n",
       "      <th>hour</th>\n",
       "      <th>variable</th>\n",
       "      <th>value</th>\n",
       "      <th>num_repos</th>\n",
       "    </tr>\n",
       "  </thead>\n",
       "  <tbody>\n",
       "    <tr>\n",
       "      <th>0</th>\n",
       "      <td>1</td>\n",
       "      <td>sam</td>\n",
       "      <td>4.724404</td>\n",
       "      <td>42</td>\n",
       "    </tr>\n",
       "    <tr>\n",
       "      <th>1</th>\n",
       "      <td>2</td>\n",
       "      <td>sam</td>\n",
       "      <td>6.851426</td>\n",
       "      <td>42</td>\n",
       "    </tr>\n",
       "    <tr>\n",
       "      <th>2</th>\n",
       "      <td>3</td>\n",
       "      <td>sam</td>\n",
       "      <td>5.314597</td>\n",
       "      <td>42</td>\n",
       "    </tr>\n",
       "    <tr>\n",
       "      <th>3</th>\n",
       "      <td>4</td>\n",
       "      <td>sam</td>\n",
       "      <td>3.151479</td>\n",
       "      <td>42</td>\n",
       "    </tr>\n",
       "    <tr>\n",
       "      <th>4</th>\n",
       "      <td>5</td>\n",
       "      <td>sam</td>\n",
       "      <td>4.712608</td>\n",
       "      <td>42</td>\n",
       "    </tr>\n",
       "    <tr>\n",
       "      <th>5</th>\n",
       "      <td>6</td>\n",
       "      <td>sam</td>\n",
       "      <td>7.676891</td>\n",
       "      <td>42</td>\n",
       "    </tr>\n",
       "    <tr>\n",
       "      <th>6</th>\n",
       "      <td>7</td>\n",
       "      <td>sam</td>\n",
       "      <td>4.827679</td>\n",
       "      <td>42</td>\n",
       "    </tr>\n",
       "    <tr>\n",
       "      <th>7</th>\n",
       "      <td>8</td>\n",
       "      <td>sam</td>\n",
       "      <td>6.691967</td>\n",
       "      <td>42</td>\n",
       "    </tr>\n",
       "    <tr>\n",
       "      <th>8</th>\n",
       "      <td>9</td>\n",
       "      <td>sam</td>\n",
       "      <td>3.939243</td>\n",
       "      <td>42</td>\n",
       "    </tr>\n",
       "    <tr>\n",
       "      <th>9</th>\n",
       "      <td>10</td>\n",
       "      <td>sam</td>\n",
       "      <td>4.386169</td>\n",
       "      <td>42</td>\n",
       "    </tr>\n",
       "    <tr>\n",
       "      <th>10</th>\n",
       "      <td>1</td>\n",
       "      <td>alex</td>\n",
       "      <td>14.630202</td>\n",
       "      <td>42</td>\n",
       "    </tr>\n",
       "    <tr>\n",
       "      <th>11</th>\n",
       "      <td>2</td>\n",
       "      <td>alex</td>\n",
       "      <td>14.590736</td>\n",
       "      <td>42</td>\n",
       "    </tr>\n",
       "    <tr>\n",
       "      <th>12</th>\n",
       "      <td>3</td>\n",
       "      <td>alex</td>\n",
       "      <td>14.536613</td>\n",
       "      <td>42</td>\n",
       "    </tr>\n",
       "    <tr>\n",
       "      <th>13</th>\n",
       "      <td>4</td>\n",
       "      <td>alex</td>\n",
       "      <td>16.951238</td>\n",
       "      <td>42</td>\n",
       "    </tr>\n",
       "    <tr>\n",
       "      <th>14</th>\n",
       "      <td>5</td>\n",
       "      <td>alex</td>\n",
       "      <td>15.620080</td>\n",
       "      <td>42</td>\n",
       "    </tr>\n",
       "    <tr>\n",
       "      <th>15</th>\n",
       "      <td>6</td>\n",
       "      <td>alex</td>\n",
       "      <td>15.222594</td>\n",
       "      <td>42</td>\n",
       "    </tr>\n",
       "    <tr>\n",
       "      <th>16</th>\n",
       "      <td>7</td>\n",
       "      <td>alex</td>\n",
       "      <td>16.367474</td>\n",
       "      <td>42</td>\n",
       "    </tr>\n",
       "    <tr>\n",
       "      <th>17</th>\n",
       "      <td>8</td>\n",
       "      <td>alex</td>\n",
       "      <td>14.127310</td>\n",
       "      <td>42</td>\n",
       "    </tr>\n",
       "    <tr>\n",
       "      <th>18</th>\n",
       "      <td>9</td>\n",
       "      <td>alex</td>\n",
       "      <td>14.191196</td>\n",
       "      <td>42</td>\n",
       "    </tr>\n",
       "    <tr>\n",
       "      <th>19</th>\n",
       "      <td>10</td>\n",
       "      <td>alex</td>\n",
       "      <td>15.034563</td>\n",
       "      <td>42</td>\n",
       "    </tr>\n",
       "  </tbody>\n",
       "</table>\n",
       "</div>"
      ],
      "text/plain": [
       "    hour variable      value  num_repos\n",
       "0      1      sam   4.724404         42\n",
       "1      2      sam   6.851426         42\n",
       "2      3      sam   5.314597         42\n",
       "3      4      sam   3.151479         42\n",
       "4      5      sam   4.712608         42\n",
       "5      6      sam   7.676891         42\n",
       "6      7      sam   4.827679         42\n",
       "7      8      sam   6.691967         42\n",
       "8      9      sam   3.939243         42\n",
       "9     10      sam   4.386169         42\n",
       "10     1     alex  14.630202         42\n",
       "11     2     alex  14.590736         42\n",
       "12     3     alex  14.536613         42\n",
       "13     4     alex  16.951238         42\n",
       "14     5     alex  15.620080         42\n",
       "15     6     alex  15.222594         42\n",
       "16     7     alex  16.367474         42\n",
       "17     8     alex  14.127310         42\n",
       "18     9     alex  14.191196         42\n",
       "19    10     alex  15.034563         42"
      ]
     },
     "execution_count": 101,
     "metadata": {},
     "output_type": "execute_result"
    }
   ],
   "source": [
    "df[:20]"
   ]
  },
  {
   "cell_type": "markdown",
   "metadata": {},
   "source": [
    "### Reshaping Data from Long to Wide\n",
    "\n",
    "This is an example of reshaping from wide to long:\n",
    "![wide to long](wide_to_long.png)\n",
    "\n",
    "This is an example of reshaping from long to wide:\n",
    "![long to wide](long_to_wide.png)\n",
    "\n",
    "\n",
    "When making visualizations, knowing which shape your data needs to be in is half the battle. In this case, we want to transform `df` such that is reshaped from long to wide.\n",
    "\n",
    "*Images created by RStudio. Source: https://github.com/rstudio/cheatsheets/blob/master/data-import.pdf*"
   ]
  },
  {
   "cell_type": "code",
   "execution_count": 102,
   "metadata": {},
   "outputs": [
    {
     "data": {
      "text/plain": [
       "Index(['hour', 'addison', 'alex', 'blake', 'cameron', 'dakota', 'jaime',\n",
       "       'jordan', 'kieran', 'sam'],\n",
       "      dtype='object', name='variable')"
      ]
     },
     "execution_count": 102,
     "metadata": {},
     "output_type": "execute_result"
    }
   ],
   "source": [
    "# creating a data frame where the first column is our x-variable (hour) and our subsequent \n",
    "# columns are the individual plots (which person (alex, sam, etc))\n",
    "# dataframe.pivot: index = our new first column, x-variable\n",
    "#                  columns = for each unique value in the column\n",
    "#                  values = assigns observation value (can take a list)\n",
    "\n",
    "# idk what reset_index() does...\n",
    "\n",
    "df_wide = df.pivot(index='hour', columns=\"variable\", values=\"value\").reset_index()\n",
    "df_wide.head()\n",
    "\n",
    "# check to see that the first column is hour\n",
    "df_wide.columns"
   ]
  },
  {
   "cell_type": "markdown",
   "metadata": {},
   "source": [
    "Now we'll do some styling before any creation of the figure and subplots. \n",
    "\n",
    "See [here for more information on style sheets](https://matplotlib.org/3.1.1/gallery/style_sheets/style_sheets_reference.html) and [here for information on color maps (i.e. color palettes)](https://matplotlib.org/users/colormaps.html)."
   ]
  },
  {
   "cell_type": "code",
   "execution_count": 103,
   "metadata": {},
   "outputs": [],
   "source": [
    "# enforce a specific plot style sheet\n",
    "plt.style.use(\"dark_background\")\n",
    "\n",
    "# create a color palette\n",
    "palette = plt.get_cmap(\"Paired\")"
   ]
  },
  {
   "cell_type": "markdown",
   "metadata": {},
   "source": [
    "#### Creating Small Multiples\n",
    "\n",
    "##### `fig` and `axs`\n",
    "\n",
    "As seen [in the `matplotlib` documentation](https://matplotlib.org/3.1.1/gallery/subplots_axes_and_figures/subplots_demo.html#stacking-subplots-in-two-directions), we want to create a plot figure that contains a 3X3 grid. Each of the 9 subplots will be accessible by indexing the `axs` object. \n",
    "\n",
    "##### Indexing `axs`\n",
    "\n",
    "To access the subplot in the upper left corner, index `axs` by typing `axs[0, 0]`. You read that as \"the subplot in the first row in the first column\". \n",
    "\n",
    "To access the subplot in the bottom right corner, you type `axs[2, 2]`. You read that as \"the subplot in the third row in the third column\".\n",
    "\n",
    "*Always helpful to remember that [Python using zero based indexing](http://python-history.blogspot.com/2013/10/why-python-uses-0-based-indexing.html).*\n",
    "\n",
    "To avoid manually typing each subplot, we'll access each subplot by using two `for` loops: one for `row` and one for `column`. Additionally, we'll add a value of `1` to the `counter` object after each subplot so that we can highlight one teammate in color.\n",
    "\n",
    "##### Adding things to the `fig`\n",
    "\n",
    "Only after the subplots are drawn do we worry about adding elements to `fig`. Here, we'll be creating a title that will be placed in the middle of the figure at the very top. We'll also be adding labels to the x and y-axis. \n",
    "\n",
    "Finally, we'll save the figure as a `PNG` file.\n"
   ]
  },
  {
   "cell_type": "code",
   "execution_count": 104,
   "metadata": {},
   "outputs": [
    {
     "data": {
      "text/plain": [
       "array([[<matplotlib.axes._subplots.AxesSubplot object at 0x11c550dd8>,\n",
       "        <matplotlib.axes._subplots.AxesSubplot object at 0x11c809630>,\n",
       "        <matplotlib.axes._subplots.AxesSubplot object at 0x11c82bc18>],\n",
       "       [<matplotlib.axes._subplots.AxesSubplot object at 0x11c8581d0>,\n",
       "        <matplotlib.axes._subplots.AxesSubplot object at 0x11c903748>,\n",
       "        <matplotlib.axes._subplots.AxesSubplot object at 0x11c92dcc0>],\n",
       "       [<matplotlib.axes._subplots.AxesSubplot object at 0x11c95f278>,\n",
       "        <matplotlib.axes._subplots.AxesSubplot object at 0x11c9867b8>,\n",
       "        <matplotlib.axes._subplots.AxesSubplot object at 0x11c9aed68>]],\n",
       "      dtype=object)"
      ]
     },
     "execution_count": 104,
     "metadata": {},
     "output_type": "execute_result"
    },
    {
     "data": {
      "image/png": "[encoded data removed]",
      "text/plain": [
       "<Figure size 432x288 with 9 Axes>"
      ]
     },
     "metadata": {},
     "output_type": "display_data"
    }
   ],
   "source": [
    "# create a figure and a grid of subplots\n",
    "fig, axs = plt.subplots(nrows=3, ncols=3)\n",
    "axs"
   ]
  },
  {
   "cell_type": "code",
   "execution_count": 105,
   "metadata": {},
   "outputs": [
    {
     "name": "stdout",
     "output_type": "stream",
     "text": [
      "[<matplotlib.axes._subplots.AxesSubplot object at 0x11c550dd8>\n",
      " <matplotlib.axes._subplots.AxesSubplot object at 0x11c809630>\n",
      " <matplotlib.axes._subplots.AxesSubplot object at 0x11c82bc18>]\n",
      "------\n",
      "[<matplotlib.axes._subplots.AxesSubplot object at 0x11c8581d0>\n",
      " <matplotlib.axes._subplots.AxesSubplot object at 0x11c903748>\n",
      " <matplotlib.axes._subplots.AxesSubplot object at 0x11c92dcc0>]\n",
      "------\n",
      "[<matplotlib.axes._subplots.AxesSubplot object at 0x11c95f278>\n",
      " <matplotlib.axes._subplots.AxesSubplot object at 0x11c9867b8>\n",
      " <matplotlib.axes._subplots.AxesSubplot object at 0x11c9aed68>]\n",
      "------\n"
     ]
    }
   ],
   "source": [
    "# print the row of plots\n",
    "for row in range(3):\n",
    "    print(axs[row])\n",
    "    print('------')\n",
    "    \n",
    "# need to do plotting commands on each plot - can't do all the plots in one line"
   ]
  },
  {
   "cell_type": "code",
   "execution_count": 106,
   "metadata": {},
   "outputs": [
    {
     "name": "stdout",
     "output_type": "stream",
     "text": [
      "---- row 0 ----\n",
      "    **** col 0 ****\n",
      "      AxesSubplot(0.125,0.657941;0.227941x0.222059)\n",
      "    **** col 1 ****\n",
      "      AxesSubplot(0.398529,0.657941;0.227941x0.222059)\n",
      "    **** col 2 ****\n",
      "      AxesSubplot(0.672059,0.657941;0.227941x0.222059)\n",
      "---- row 1 ----\n",
      "    **** col 0 ****\n",
      "      AxesSubplot(0.125,0.391471;0.227941x0.222059)\n",
      "    **** col 1 ****\n",
      "      AxesSubplot(0.398529,0.391471;0.227941x0.222059)\n",
      "    **** col 2 ****\n",
      "      AxesSubplot(0.672059,0.391471;0.227941x0.222059)\n",
      "---- row 2 ----\n",
      "    **** col 0 ****\n",
      "      AxesSubplot(0.125,0.125;0.227941x0.222059)\n",
      "    **** col 1 ****\n",
      "      AxesSubplot(0.398529,0.125;0.227941x0.222059)\n",
      "    **** col 2 ****\n",
      "      AxesSubplot(0.672059,0.125;0.227941x0.222059)\n"
     ]
    }
   ],
   "source": [
    "# print each plot\n",
    "for row in range(axs.shape[0]):\n",
    "    print(f\"---- row {row} ----\")\n",
    "    for col in range(axs.shape[1]):\n",
    "        print(f'    **** col {col} ****')\n",
    "        print(f'      {axs[row][col]}')"
   ]
  },
  {
   "cell_type": "code",
   "execution_count": 107,
   "metadata": {},
   "outputs": [
    {
     "data": {
      "text/plain": [
       "(3, 3)"
      ]
     },
     "execution_count": 107,
     "metadata": {},
     "output_type": "execute_result"
    }
   ],
   "source": [
    "axs.shape"
   ]
  },
  {
   "cell_type": "code",
   "execution_count": 110,
   "metadata": {},
   "outputs": [],
   "source": [
    "# counter will store the feature index to use when highlighting a particular teammate in each subplot\n",
    "counter = 0\n",
    "\n",
    "# plot every feature in each subplot in gray color (plot everyone in gray)\n",
    "n_rows = range(axs.shape[0])\n",
    "n_cols = range(axs.shape[1])\n",
    "for row in n_rows:\n",
    "    for col in n_cols:\n",
    "        for name in names.columns:\n",
    "            axs[row][col].plot(df_wide['hour'], df_wide[name], color='gray')\n",
    "\n",
    "\n",
    "# for each subplot, plot only one non-\"hour\" feature - via counter - in color (Name & highlight)\n",
    "\n",
    "for row in n_rows:\n",
    "    for col in n_cols:\n",
    "        name = names.columns[counter]\n",
    "        this_color = palette.colors[counter]\n",
    "        axs[row][col].plot(df_wide['hour'], df_wide[name], \n",
    "                           color= this_color)\n",
    "        axs[row][col].set_title(name.title(), color = this_color)\n",
    "        \n",
    "    # note: we are subsetting each subplot via axs[row, col]\n",
    "\n",
    "    # set xlim and ylim for each subplot      HELP HERE\n",
    "        #axs[row][col].xlim(0,8)\n",
    "        #faxs[row][col].ylim(0,25)\n",
    "\n",
    "    # remove x-axis tick marks from the first two rows of subplots  (INSTEAD WE\"RE REMOVING THE X-LABEL)\n",
    "        #if row == 0 | row == 1:\n",
    "           # axs[row][col].tick_params(bottom='off')\n",
    "            pass\n",
    "            \n",
    "    # remove the y-axis tick marks from the second and third columns of subplots\n",
    "\n",
    "\n",
    "    # assign each subplot a title based on the one non-\"hour\" feature that was highlighted in color\n",
    "\n",
    "\n",
    "    # now that we're done with this subplot, add one to counter so the next teammate is highlighted\n",
    "        counter += 1\n",
    "            \n",
    "# assign an overall title\n",
    "fig.suptitle(\"Average number of commits over time by each team member\", \n",
    "             fontsize=13, \n",
    "             fontweight=0,\n",
    "             color=\"white\", \n",
    "             style=\"italic\", \n",
    "             y=1.02)\n",
    " \n",
    "# label axes\n",
    "fig.text(0.5, 0.01, \"Time (in number of hours since start of hackathon)\", ha=\"center\", va=\"center\")\n",
    "fig.text(0.01, 0.5, \"Number of commits\", ha=\"center\", va=\"center\", rotation='vertical')\n",
    "\n",
    "# adjust layout so things aren't so squished\n",
    "fig.tight_layout()\n",
    "\n",
    "# export figure as PNG file\n",
    "fig.savefig(\"visuals/class_small_multiples_example.png\",\n",
    "            dpi=200,\n",
    "            bbox_inches=\"tight\")\n"
   ]
  },
  {
   "cell_type": "code",
   "execution_count": 111,
   "metadata": {},
   "outputs": [
    {
     "data": {
      "image/png": "[encoded data removed]",
      "text/plain": [
       "<Figure size 432x288 with 9 Axes>"
      ]
     },
     "execution_count": 111,
     "metadata": {},
     "output_type": "execute_result"
    }
   ],
   "source": [
    "fig"
   ]
  },
  {
   "cell_type": "code",
   "execution_count": 109,
   "metadata": {},
   "outputs": [
    {
     "data": {
      "text/plain": [
       "Index(['addison', 'alex', 'blake', 'cameron', 'dakota', 'jaime', 'jordan',\n",
       "       'kieran', 'sam'],\n",
       "      dtype='object', name='variable')"
      ]
     },
     "execution_count": 109,
     "metadata": {},
     "output_type": "execute_result"
    }
   ],
   "source": [
    "names=df_wide.drop(columns='hour')\n",
    "names.columns\n",
    "\n",
    "# df_wide"
   ]
  },
  {
   "cell_type": "code",
   "execution_count": 44,
   "metadata": {},
   "outputs": [
    {
     "data": {
      "text/plain": [
       "'addison'"
      ]
     },
     "execution_count": 44,
     "metadata": {},
     "output_type": "execute_result"
    }
   ],
   "source": [
    "names.columns[0]"
   ]
  },
  {
   "cell_type": "code",
   "execution_count": 47,
   "metadata": {},
   "outputs": [
    {
     "data": {
      "text/plain": [
       "((0.6509803921568628, 0.807843137254902, 0.8901960784313725),\n",
       " (0.12156862745098039, 0.47058823529411764, 0.7058823529411765),\n",
       " (0.6980392156862745, 0.8745098039215686, 0.5411764705882353),\n",
       " (0.2, 0.6274509803921569, 0.17254901960784313),\n",
       " (0.984313725490196, 0.6039215686274509, 0.6),\n",
       " (0.8901960784313725, 0.10196078431372549, 0.10980392156862745),\n",
       " (0.9921568627450981, 0.7490196078431373, 0.43529411764705883),\n",
       " (1.0, 0.4980392156862745, 0.0),\n",
       " (0.792156862745098, 0.6980392156862745, 0.8392156862745098),\n",
       " (0.41568627450980394, 0.23921568627450981, 0.6039215686274509),\n",
       " (1.0, 1.0, 0.6),\n",
       " (0.6941176470588235, 0.34901960784313724, 0.1568627450980392))"
      ]
     },
     "execution_count": 47,
     "metadata": {},
     "output_type": "execute_result"
    }
   ],
   "source": []
  },
  {
   "cell_type": "code",
   "execution_count": 95,
   "metadata": {},
   "outputs": [
    {
     "name": "stdout",
     "output_type": "stream",
     "text": [
      "Object `tick_params` not found.\n"
     ]
    }
   ],
   "source": []
  },
  {
   "cell_type": "code",
   "execution_count": null,
   "metadata": {},
   "outputs": [],
   "source": []
  },
  {
   "cell_type": "code",
   "execution_count": null,
   "metadata": {},
   "outputs": [],
   "source": []
  }
 ],
 "metadata": {
  "kernelspec": {
   "display_name": "Python [conda env:learn-env] *",
   "language": "python",
   "name": "conda-env-learn-env-py"
  },
  "language_info": {
   "codemirror_mode": {
    "name": "ipython",
    "version": 3
   },
   "file_extension": ".py",
   "mimetype": "text/x-python",
   "name": "python",
   "nbconvert_exporter": "python",
   "pygments_lexer": "ipython3",
   "version": "3.6.6"
  }
 },
 "nbformat": 4,
 "nbformat_minor": 2
}
